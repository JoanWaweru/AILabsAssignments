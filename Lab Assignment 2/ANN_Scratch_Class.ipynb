{
  "cells": [
    {
      "cell_type": "code",
      "execution_count": null,
      "metadata": {
        "id": "1G1n83yzj4xC"
      },
      "outputs": [
        {
          "ename": "",
          "evalue": "",
          "output_type": "error",
          "traceback": [
            "\u001b[1;31mRunning cells with 'Python 3.10.1 64-bit' requires ipykernel package.\n",
            "Run the following command to install 'ipykernel' into the Python environment. \n",
            "Command: 'C:/Users/JOAN/AppData/Local/Programs/Python/Python310/python.exe -m pip install ipykernel -U --user --force-reinstall'"
          ]
        }
      ],
      "source": [
        "import pandas as pd \n",
        "import numpy as np"
      ]
    },
    {
      "cell_type": "code",
      "execution_count": null,
      "metadata": {
        "id": "p02bQfWckSWf"
      },
      "outputs": [],
      "source": [
        "from numpy import array\n",
        "from sklearn.preprocessing import Normalizer\n",
        "from keras.activations import sigmoid\n",
        "from keras.losses import mse\n",
        "from numpy.random import uniform"
      ]
    },
    {
      "cell_type": "markdown",
      "metadata": {
        "id": "F7ttDmY80BBC"
      },
      "source": [
        "Hyperparameters"
      ]
    },
    {
      "cell_type": "code",
      "execution_count": null,
      "metadata": {
        "id": "1M6LtMrQ0DVQ"
      },
      "outputs": [],
      "source": [
        "batch_size=1"
      ]
    },
    {
      "cell_type": "markdown",
      "metadata": {
        "id": "ZkNWpiX-keTQ"
      },
      "source": [
        "Dataset"
      ]
    },
    {
      "cell_type": "code",
      "execution_count": null,
      "metadata": {
        "id": "-D5ZfUwmkwih"
      },
      "outputs": [],
      "source": [
        "data={'Day 1':[30,40,50,20,15,60],'Day 2':[40,50,20,15,60,70],\n",
        "      'Day 3':[50,20,15,60,70,50],'Target':[20,15,60,70,50,40]}"
      ]
    },
    {
      "cell_type": "code",
      "execution_count": null,
      "metadata": {
        "id": "_xEUKLHxkYyi"
      },
      "outputs": [],
      "source": [
        "dataset=pd.DataFrame(data)"
      ]
    },
    {
      "cell_type": "code",
      "execution_count": null,
      "metadata": {
        "colab": {
          "base_uri": "https://localhost:8080/",
          "height": 238
        },
        "id": "-bDPgQjkli48",
        "outputId": "24f21c2e-ab13-4cb7-b1a5-f008adb30ff2"
      },
      "outputs": [
        {
          "data": {
            "text/html": [
              "<div>\n",
              "<style scoped>\n",
              "    .dataframe tbody tr th:only-of-type {\n",
              "        vertical-align: middle;\n",
              "    }\n",
              "\n",
              "    .dataframe tbody tr th {\n",
              "        vertical-align: top;\n",
              "    }\n",
              "\n",
              "    .dataframe thead th {\n",
              "        text-align: right;\n",
              "    }\n",
              "</style>\n",
              "<table border=\"1\" class=\"dataframe\">\n",
              "  <thead>\n",
              "    <tr style=\"text-align: right;\">\n",
              "      <th></th>\n",
              "      <th>Day 1</th>\n",
              "      <th>Day 2</th>\n",
              "      <th>Day 3</th>\n",
              "      <th>Target</th>\n",
              "    </tr>\n",
              "  </thead>\n",
              "  <tbody>\n",
              "    <tr>\n",
              "      <th>0</th>\n",
              "      <td>30</td>\n",
              "      <td>40</td>\n",
              "      <td>50</td>\n",
              "      <td>20</td>\n",
              "    </tr>\n",
              "    <tr>\n",
              "      <th>1</th>\n",
              "      <td>40</td>\n",
              "      <td>50</td>\n",
              "      <td>20</td>\n",
              "      <td>15</td>\n",
              "    </tr>\n",
              "    <tr>\n",
              "      <th>2</th>\n",
              "      <td>50</td>\n",
              "      <td>20</td>\n",
              "      <td>15</td>\n",
              "      <td>60</td>\n",
              "    </tr>\n",
              "    <tr>\n",
              "      <th>3</th>\n",
              "      <td>20</td>\n",
              "      <td>15</td>\n",
              "      <td>60</td>\n",
              "      <td>70</td>\n",
              "    </tr>\n",
              "    <tr>\n",
              "      <th>4</th>\n",
              "      <td>15</td>\n",
              "      <td>60</td>\n",
              "      <td>70</td>\n",
              "      <td>50</td>\n",
              "    </tr>\n",
              "    <tr>\n",
              "      <th>5</th>\n",
              "      <td>60</td>\n",
              "      <td>70</td>\n",
              "      <td>50</td>\n",
              "      <td>40</td>\n",
              "    </tr>\n",
              "  </tbody>\n",
              "</table>\n",
              "</div>"
            ],
            "text/plain": [
              "   Day 1  Day 2  Day 3  Target\n",
              "0     30     40     50      20\n",
              "1     40     50     20      15\n",
              "2     50     20     15      60\n",
              "3     20     15     60      70\n",
              "4     15     60     70      50\n",
              "5     60     70     50      40"
            ]
          },
          "execution_count": 479,
          "metadata": {},
          "output_type": "execute_result"
        }
      ],
      "source": [
        "dataset"
      ]
    },
    {
      "cell_type": "code",
      "execution_count": null,
      "metadata": {
        "id": "zARgHRFfmvWs"
      },
      "outputs": [],
      "source": [
        "X=dataset.drop('Target',axis=1)\n",
        "y=dataset['Target']"
      ]
    },
    {
      "cell_type": "code",
      "execution_count": null,
      "metadata": {
        "colab": {
          "base_uri": "https://localhost:8080/",
          "height": 238
        },
        "id": "ehZYrwZfn_WU",
        "outputId": "f6bce6c5-f31d-44a7-d100-f0ff9f7fe480"
      },
      "outputs": [
        {
          "data": {
            "text/html": [
              "<div>\n",
              "<style scoped>\n",
              "    .dataframe tbody tr th:only-of-type {\n",
              "        vertical-align: middle;\n",
              "    }\n",
              "\n",
              "    .dataframe tbody tr th {\n",
              "        vertical-align: top;\n",
              "    }\n",
              "\n",
              "    .dataframe thead th {\n",
              "        text-align: right;\n",
              "    }\n",
              "</style>\n",
              "<table border=\"1\" class=\"dataframe\">\n",
              "  <thead>\n",
              "    <tr style=\"text-align: right;\">\n",
              "      <th></th>\n",
              "      <th>Day 1</th>\n",
              "      <th>Day 2</th>\n",
              "      <th>Day 3</th>\n",
              "    </tr>\n",
              "  </thead>\n",
              "  <tbody>\n",
              "    <tr>\n",
              "      <th>0</th>\n",
              "      <td>30</td>\n",
              "      <td>40</td>\n",
              "      <td>50</td>\n",
              "    </tr>\n",
              "    <tr>\n",
              "      <th>1</th>\n",
              "      <td>40</td>\n",
              "      <td>50</td>\n",
              "      <td>20</td>\n",
              "    </tr>\n",
              "    <tr>\n",
              "      <th>2</th>\n",
              "      <td>50</td>\n",
              "      <td>20</td>\n",
              "      <td>15</td>\n",
              "    </tr>\n",
              "    <tr>\n",
              "      <th>3</th>\n",
              "      <td>20</td>\n",
              "      <td>15</td>\n",
              "      <td>60</td>\n",
              "    </tr>\n",
              "    <tr>\n",
              "      <th>4</th>\n",
              "      <td>15</td>\n",
              "      <td>60</td>\n",
              "      <td>70</td>\n",
              "    </tr>\n",
              "    <tr>\n",
              "      <th>5</th>\n",
              "      <td>60</td>\n",
              "      <td>70</td>\n",
              "      <td>50</td>\n",
              "    </tr>\n",
              "  </tbody>\n",
              "</table>\n",
              "</div>"
            ],
            "text/plain": [
              "   Day 1  Day 2  Day 3\n",
              "0     30     40     50\n",
              "1     40     50     20\n",
              "2     50     20     15\n",
              "3     20     15     60\n",
              "4     15     60     70\n",
              "5     60     70     50"
            ]
          },
          "execution_count": 481,
          "metadata": {},
          "output_type": "execute_result"
        }
      ],
      "source": [
        "X"
      ]
    },
    {
      "cell_type": "code",
      "execution_count": null,
      "metadata": {
        "id": "Da55LR2inAkx"
      },
      "outputs": [],
      "source": [
        "X_norm = Normalizer(norm='max').fit_transform(X)"
      ]
    },
    {
      "cell_type": "code",
      "execution_count": null,
      "metadata": {
        "colab": {
          "base_uri": "https://localhost:8080/"
        },
        "id": "a_jYq5XVpuUP",
        "outputId": "bd7f591d-5961-42e6-872e-e2022d2a8cdc"
      },
      "outputs": [
        {
          "data": {
            "text/plain": [
              "array([[0.6       , 0.8       , 1.        ],\n",
              "       [0.8       , 1.        , 0.4       ],\n",
              "       [1.        , 0.4       , 0.3       ],\n",
              "       [0.33333333, 0.25      , 1.        ],\n",
              "       [0.21428571, 0.85714286, 1.        ],\n",
              "       [0.85714286, 1.        , 0.71428571]])"
            ]
          },
          "execution_count": 483,
          "metadata": {},
          "output_type": "execute_result"
        }
      ],
      "source": [
        "X_norm"
      ]
    },
    {
      "cell_type": "code",
      "execution_count": null,
      "metadata": {
        "colab": {
          "base_uri": "https://localhost:8080/"
        },
        "id": "M_-swp5_qoGp",
        "outputId": "69687358-cab9-41f4-860e-553dddfe5d06"
      },
      "outputs": [
        {
          "data": {
            "text/plain": [
              "array([20, 15, 60, 70, 50, 40])"
            ]
          },
          "execution_count": 484,
          "metadata": {},
          "output_type": "execute_result"
        }
      ],
      "source": [
        "array(y)"
      ]
    },
    {
      "cell_type": "code",
      "execution_count": null,
      "metadata": {
        "colab": {
          "base_uri": "https://localhost:8080/"
        },
        "id": "CVbAq5TOoliW",
        "outputId": "db7e2ce7-725b-441a-cc13-e4ab1a591d81"
      },
      "outputs": [
        {
          "data": {
            "text/plain": [
              "array([[20, 15, 60, 70, 50, 40]])"
            ]
          },
          "execution_count": 485,
          "metadata": {},
          "output_type": "execute_result"
        }
      ],
      "source": [
        "np.reshape(array(y),(1,-1))"
      ]
    },
    {
      "cell_type": "code",
      "execution_count": null,
      "metadata": {
        "id": "bFXf3klxocdV"
      },
      "outputs": [],
      "source": [
        "y_norm=Normalizer(norm='max').fit_transform(np.reshape(array(y),(1,-1)))"
      ]
    },
    {
      "cell_type": "code",
      "execution_count": null,
      "metadata": {
        "colab": {
          "base_uri": "https://localhost:8080/"
        },
        "id": "4XkfInJvp1Kz",
        "outputId": "06cbb2c0-2cd1-40ed-eeaa-ba2630636425"
      },
      "outputs": [
        {
          "data": {
            "text/plain": [
              "array([[0.28571429, 0.21428571, 0.85714286, 1.        , 0.71428571,\n",
              "        0.57142857]])"
            ]
          },
          "execution_count": 487,
          "metadata": {},
          "output_type": "execute_result"
        }
      ],
      "source": [
        "y_norm"
      ]
    },
    {
      "cell_type": "markdown",
      "metadata": {
        "id": "JXt48Cser87U"
      },
      "source": [
        "ANN From Scratch"
      ]
    },
    {
      "cell_type": "markdown",
      "metadata": {
        "id": "WFU1aQi0mH_8"
      },
      "source": [
        "**The 100 epocs**"
      ]
    },
    {
      "cell_type": "code",
      "execution_count": null,
      "metadata": {
        "colab": {
          "base_uri": "https://localhost:8080/"
        },
        "id": "pAxSa6_XaoCg",
        "outputId": "e693c194-03f3-48dc-89b8-0eb3d3243ee2"
      },
      "outputs": [
        {
          "name": "stdout",
          "output_type": "stream",
          "text": [
            "Epoc number: 0 \n",
            "\n",
            "weight_2_update\n",
            "\n",
            "[[ 0.16335414]\n",
            " [-0.11490712]] \n",
            "\n",
            "Weight_1_update\n",
            "\n",
            "[[0.50008181 0.93084318]\n",
            " [0.86441363 0.77603478]\n",
            " [0.03078744 0.06074432]] \n",
            "\n",
            "Predicted output:\n",
            "\n",
            "[[0.03101672]]\n",
            "Expected output:\n",
            "\n",
            "[0.28571429]\n",
            "Epoc number: 1 \n",
            "\n",
            "weight_2_update\n",
            "\n",
            "[[-0.11490712]\n",
            " [-0.99617316]] \n",
            "\n",
            "Weight_1_update\n",
            "\n",
            "[[-0.57751422 -0.30746419]\n",
            " [ 0.59137382 -0.41951121]\n",
            " [-0.77750908 -0.86317448]] \n",
            "\n",
            "Predicted output:\n",
            "\n",
            "[[-0.23910656]]\n",
            "Expected output:\n",
            "\n",
            "[0.28571429]\n",
            "Epoc number: 2 \n",
            "\n",
            "weight_2_update\n",
            "\n",
            "[[-0.99617316]\n",
            " [ 0.15863763]] \n",
            "\n",
            "Weight_1_update\n",
            "\n",
            "[[-0.28721242 -0.51226187]\n",
            " [-0.87587377 -0.16363101]\n",
            " [-0.54656114  0.78816946]] \n",
            "\n",
            "Predicted output:\n",
            "\n",
            "[[-0.10092499]]\n",
            "Expected output:\n",
            "\n",
            "[0.28571429]\n",
            "Epoc number: 3 \n",
            "\n",
            "weight_2_update\n",
            "\n",
            "[[ 0.15863763]\n",
            " [-0.54556012]] \n",
            "\n",
            "Weight_1_update\n",
            "\n",
            "[[ 0.75409548 -0.05522147]\n",
            " [-0.10807494  0.48149905]\n",
            " [-0.8074738   0.28887908]] \n",
            "\n",
            "Predicted output:\n",
            "\n",
            "[[-0.2952349]]\n",
            "Expected output:\n",
            "\n",
            "[0.28571429]\n",
            "Epoc number: 4 \n",
            "\n",
            "weight_2_update\n",
            "\n",
            "[[-0.54556012]\n",
            " [-0.49010804]] \n",
            "\n",
            "Weight_1_update\n",
            "\n",
            "[[-0.07618054  0.48733012]\n",
            " [ 0.97453693 -0.79593795]\n",
            " [-0.51035836 -0.09114429]] \n",
            "\n",
            "Predicted output:\n",
            "\n",
            "[[-0.49566701]]\n",
            "Expected output:\n",
            "\n",
            "[0.28571429]\n",
            "Epoc number: 5 \n",
            "\n",
            "weight_2_update\n",
            "\n",
            "[[-0.49010804]\n",
            " [-0.68998059]] \n",
            "\n",
            "Weight_1_update\n",
            "\n",
            "[[ 0.32781168 -0.00723394]\n",
            " [ 0.05846692  0.58364293]\n",
            " [ 0.74384182  0.23267443]] \n",
            "\n",
            "Predicted output:\n",
            "\n",
            "[[-0.81737967]]\n",
            "Expected output:\n",
            "\n",
            "[0.28571429]\n",
            "Epoc number: 6 \n",
            "\n",
            "weight_2_update\n",
            "\n",
            "[[-0.68998059]\n",
            " [-0.30929722]] \n",
            "\n",
            "Weight_1_update\n",
            "\n",
            "[[-0.29514057  0.29978768]\n",
            " [ 0.46178289  0.5656868 ]\n",
            " [ 0.29408269 -0.47642715]] \n",
            "\n",
            "Predicted output:\n",
            "\n",
            "[[-0.59396642]]\n",
            "Expected output:\n",
            "\n",
            "[0.28571429]\n",
            "Epoc number: 7 \n",
            "\n",
            "weight_2_update\n",
            "\n",
            "[[-0.30929722]\n",
            " [ 0.75877312]] \n",
            "\n",
            "Weight_1_update\n",
            "\n",
            "[[ 0.09835292  0.12810672]\n",
            " [ 0.3583941  -0.76967554]\n",
            " [ 0.89260647  0.5750824 ]] \n",
            "\n",
            "Predicted output:\n",
            "\n",
            "[[0.14646381]]\n",
            "Expected output:\n",
            "\n",
            "[0.28571429]\n",
            "Epoc number: 8 \n",
            "\n",
            "weight_2_update\n",
            "\n",
            "[[0.75877312]\n",
            " [0.89069008]] \n",
            "\n",
            "Weight_1_update\n",
            "\n",
            "[[ 0.64935624  0.55286568]\n",
            " [-0.38789703  0.25609469]\n",
            " [ 0.91425494  0.14377192]] \n",
            "\n",
            "Predicted output:\n",
            "\n",
            "[[1.14500253]]\n",
            "Expected output:\n",
            "\n",
            "[0.28571429]\n",
            "Epoc number: 9 \n",
            "\n",
            "weight_2_update\n",
            "\n",
            "[[0.89069008]\n",
            " [0.84818704]] \n",
            "\n",
            "Weight_1_update\n",
            "\n",
            "[[ 0.98071139 -0.13373513]\n",
            " [-0.72558906 -0.43266564]\n",
            " [-0.37623556 -0.76524768]] \n",
            "\n",
            "Predicted output:\n",
            "\n",
            "[[0.56185505]]\n",
            "Expected output:\n",
            "\n",
            "[0.28571429]\n",
            "Epoc number: 10 \n",
            "\n",
            "weight_2_update\n",
            "\n",
            "[[0.84818704]\n",
            " [0.77706845]] \n",
            "\n",
            "Weight_1_update\n",
            "\n",
            "[[-0.80411986 -0.4214875 ]\n",
            " [ 0.7922104  -0.86174899]\n",
            " [-0.20173182 -0.18857159]] \n",
            "\n",
            "Predicted output:\n",
            "\n",
            "[[0.60300723]]\n",
            "Expected output:\n",
            "\n",
            "[0.28571429]\n",
            "Epoc number: 11 \n",
            "\n",
            "weight_2_update\n",
            "\n",
            "[[ 0.77706845]\n",
            " [-0.94757049]] \n",
            "\n",
            "Weight_1_update\n",
            "\n",
            "[[ 0.26478115 -0.83818395]\n",
            " [-0.92658637 -0.07877668]\n",
            " [-0.72765574 -0.70621959]] \n",
            "\n",
            "Predicted output:\n",
            "\n",
            "[[-0.04230343]]\n",
            "Expected output:\n",
            "\n",
            "[0.28571429]\n",
            "Epoc number: 12 \n",
            "\n",
            "weight_2_update\n",
            "\n",
            "[[-0.94757049]\n",
            " [ 0.95305244]] \n",
            "\n",
            "Weight_1_update\n",
            "\n",
            "[[ 0.16080372  0.98900801]\n",
            " [-0.62396154 -0.94386543]\n",
            " [ 0.5027439   0.30845989]] \n",
            "\n",
            "Predicted output:\n",
            "\n",
            "[[0.01396578]]\n",
            "Expected output:\n",
            "\n",
            "[0.28571429]\n",
            "Epoc number: 13 \n",
            "\n",
            "weight_2_update\n",
            "\n",
            "[[0.95305244]\n",
            " [0.56535385]] \n",
            "\n",
            "Weight_1_update\n",
            "\n",
            "[[-0.14010626 -0.46088621]\n",
            " [ 0.59501764  0.18372795]\n",
            " [ 0.83419549  0.38308107]] \n",
            "\n",
            "Predicted output:\n",
            "\n",
            "[[1.05516609]]\n",
            "Expected output:\n",
            "\n",
            "[0.28571429]\n",
            "Epoc number: 14 \n",
            "\n",
            "weight_2_update\n",
            "\n",
            "[[ 0.56535385]\n",
            " [-0.43248415]] \n",
            "\n",
            "Weight_1_update\n",
            "\n",
            "[[-0.64352297  0.09419135]\n",
            " [ 0.60194182  0.84539156]\n",
            " [-0.67038011 -0.00646289]] \n",
            "\n",
            "Predicted output:\n",
            "\n",
            "[[-0.08791482]]\n",
            "Expected output:\n",
            "\n",
            "[0.28571429]\n",
            "Epoc number: 15 \n",
            "\n",
            "weight_2_update\n",
            "\n",
            "[[-0.43248415]\n",
            " [ 0.25018379]] \n",
            "\n",
            "Weight_1_update\n",
            "\n",
            "[[ 0.53766547 -0.70878311]\n",
            " [-0.76476163 -0.99188341]\n",
            " [ 0.0551767  -0.21128966]] \n",
            "\n",
            "Predicted output:\n",
            "\n",
            "[[-0.14274544]]\n",
            "Expected output:\n",
            "\n",
            "[0.28571429]\n",
            "Epoc number: 16 \n",
            "\n",
            "weight_2_update\n",
            "\n",
            "[[0.25018379]\n",
            " [0.35688393]] \n",
            "\n",
            "Weight_1_update\n",
            "\n",
            "[[-0.43694    -0.63978918]\n",
            " [ 0.86818461 -0.82009826]\n",
            " [ 0.42861926 -0.8174866 ]] \n",
            "\n",
            "Predicted output:\n",
            "\n",
            "[[0.22402671]]\n",
            "Expected output:\n",
            "\n",
            "[0.28571429]\n",
            "Epoc number: 17 \n",
            "\n",
            "weight_2_update\n",
            "\n",
            "[[0.35688393]\n",
            " [0.28764793]] \n",
            "\n",
            "Weight_1_update\n",
            "\n",
            "[[-0.95986919  0.41142188]\n",
            " [-0.65647427 -0.66106784]\n",
            " [ 0.14872757 -0.71677798]] \n",
            "\n",
            "Predicted output:\n",
            "\n",
            "[[0.17678877]]\n",
            "Expected output:\n",
            "\n",
            "[0.28571429]\n",
            "Epoc number: 18 \n",
            "\n",
            "weight_2_update\n",
            "\n",
            "[[0.28764793]\n",
            " [0.82698465]] \n",
            "\n",
            "Weight_1_update\n",
            "\n",
            "[[-0.09758454 -0.75680916]\n",
            " [-0.88204455  0.33720051]\n",
            " [ 0.68957244 -0.33591848]] \n",
            "\n",
            "Predicted output:\n",
            "\n",
            "[[0.44675679]]\n",
            "Expected output:\n",
            "\n",
            "[0.28571429]\n",
            "Epoc number: 19 \n",
            "\n",
            "weight_2_update\n",
            "\n",
            "[[0.82698465]\n",
            " [1.26107356]] \n",
            "\n",
            "Weight_1_update\n",
            "\n",
            "[[-0.06581861 -0.20731195]\n",
            " [ 1.20716766  0.33627191]\n",
            " [ 1.34520583 -0.71659622]] \n",
            "\n",
            "Predicted output:\n",
            "\n",
            "[[1.20462324]]\n",
            "Expected output:\n",
            "\n",
            "[0.28571429]\n",
            "Epoc number: 20 \n",
            "\n",
            "weight_2_update\n",
            "\n",
            "[[1.26107356]\n",
            " [0.02333115]] \n",
            "\n",
            "Weight_1_update\n",
            "\n",
            "[[-0.61261525  0.21057749]\n",
            " [ 0.77976278  0.77570648]\n",
            " [-0.67270004 -0.92377935]] \n",
            "\n",
            "Predicted output:\n",
            "\n",
            "[[0.51174236]]\n",
            "Expected output:\n",
            "\n",
            "[0.28571429]\n",
            "Epoc number: 21 \n",
            "\n",
            "weight_2_update\n",
            "\n",
            "[[0.02333115]\n",
            " [0.59817526]] \n",
            "\n",
            "Weight_1_update\n",
            "\n",
            "[[ 0.4162758   0.99917933]\n",
            " [ 0.28124786 -0.761203  ]\n",
            " [ 0.60899687  0.26778017]] \n",
            "\n",
            "Predicted output:\n",
            "\n",
            "[[0.35493834]]\n",
            "Expected output:\n",
            "\n",
            "[0.28571429]\n",
            "Epoc number: 22 \n",
            "\n",
            "weight_2_update\n",
            "\n",
            "[[0.59817526]\n",
            " [0.3399666 ]] \n",
            "\n",
            "Weight_1_update\n",
            "\n",
            "[[ 0.92160018  0.73558726]\n",
            " [-0.81888871  0.29850503]\n",
            " [-0.28148448  0.20201411]] \n",
            "\n",
            "Predicted output:\n",
            "\n",
            "[[0.48285955]]\n",
            "Expected output:\n",
            "\n",
            "[0.28571429]\n",
            "Epoc number: 23 \n",
            "\n",
            "weight_2_update\n",
            "\n",
            "[[ 0.3399666 ]\n",
            " [-0.49119734]] \n",
            "\n",
            "Weight_1_update\n",
            "\n",
            "[[-0.54633388 -0.83358591]\n",
            " [-0.59161697  0.80695579]\n",
            " [-0.81353131  0.02570895]] \n",
            "\n",
            "Predicted output:\n",
            "\n",
            "[[-0.21014462]]\n",
            "Expected output:\n",
            "\n",
            "[0.28571429]\n",
            "Epoc number: 24 \n",
            "\n",
            "weight_2_update\n",
            "\n",
            "[[-0.49119734]\n",
            " [ 0.02234908]] \n",
            "\n",
            "Weight_1_update\n",
            "\n",
            "[[-0.14873735  0.65993599]\n",
            " [ 0.98113    -0.5465588 ]\n",
            " [ 0.12597768 -0.49432747]] \n",
            "\n",
            "Predicted output:\n",
            "\n",
            "[[-0.33292644]]\n",
            "Expected output:\n",
            "\n",
            "[0.28571429]\n",
            "Epoc number: 25 \n",
            "\n",
            "weight_2_update\n",
            "\n",
            "[[0.02234908]\n",
            " [0.58825442]] \n",
            "\n",
            "Weight_1_update\n",
            "\n",
            "[[ 0.14070818 -0.5924067 ]\n",
            " [ 0.28122872 -0.34426253]\n",
            " [-0.38571961 -0.8147717 ]] \n",
            "\n",
            "Predicted output:\n",
            "\n",
            "[[0.12291418]]\n",
            "Expected output:\n",
            "\n",
            "[0.28571429]\n",
            "Epoc number: 26 \n",
            "\n",
            "weight_2_update\n",
            "\n",
            "[[ 0.58825442]\n",
            " [-0.25349892]] \n",
            "\n",
            "Weight_1_update\n",
            "\n",
            "[[ 0.72850306 -0.62534227]\n",
            " [-0.24353633 -0.58228327]\n",
            " [-0.24404732 -0.88017089]] \n",
            "\n",
            "Predicted output:\n",
            "\n",
            "[[0.25540632]]\n",
            "Expected output:\n",
            "\n",
            "[0.28571429]\n",
            "Epoc number: 27 \n",
            "\n",
            "weight_2_update\n",
            "\n",
            "[[-0.25349892]\n",
            " [ 0.10996043]] \n",
            "\n",
            "Weight_1_update\n",
            "\n",
            "[[-0.50836003  0.49122622]\n",
            " [-0.06598828  0.37860234]\n",
            " [ 0.36294324  0.9985957 ]] \n",
            "\n",
            "Predicted output:\n",
            "\n",
            "[[-0.03564416]]\n",
            "Expected output:\n",
            "\n",
            "[0.28571429]\n",
            "Epoc number: 28 \n",
            "\n",
            "weight_2_update\n",
            "\n",
            "[[ 0.10996043]\n",
            " [-0.49625996]] \n",
            "\n",
            "Weight_1_update\n",
            "\n",
            "[[-0.8530952  -0.4957223 ]\n",
            " [ 0.47026104 -0.57496448]\n",
            " [ 0.55309492 -0.87020448]] \n",
            "\n",
            "Predicted output:\n",
            "\n",
            "[[-0.01517302]]\n",
            "Expected output:\n",
            "\n",
            "[0.28571429]\n",
            "Epoc number: 29 \n",
            "\n",
            "weight_2_update\n",
            "\n",
            "[[-0.49625996]\n",
            " [ 0.03125427]] \n",
            "\n",
            "Weight_1_update\n",
            "\n",
            "[[-0.77926678 -0.65656479]\n",
            " [ 0.56174655  0.57270203]\n",
            " [ 0.79331199 -0.17448856]] \n",
            "\n",
            "Predicted output:\n",
            "\n",
            "[[-0.32498986]]\n",
            "Expected output:\n",
            "\n",
            "[0.28571429]\n",
            "Epoc number: 30 \n",
            "\n",
            "weight_2_update\n",
            "\n",
            "[[0.03125427]\n",
            " [0.51868386]] \n",
            "\n",
            "Weight_1_update\n",
            "\n",
            "[[ 0.55729332  0.68534074]\n",
            " [ 0.83013226 -0.27919525]\n",
            " [-0.66272149 -0.72728952]] \n",
            "\n",
            "Predicted output:\n",
            "\n",
            "[[0.20926663]]\n",
            "Expected output:\n",
            "\n",
            "[0.28571429]\n",
            "Epoc number: 31 \n",
            "\n",
            "weight_2_update\n",
            "\n",
            "[[ 0.51868386]\n",
            " [-0.59276671]] \n",
            "\n",
            "Weight_1_update\n",
            "\n",
            "[[ 0.93432623  0.98228785]\n",
            " [-0.48922325 -0.31986497]\n",
            " [-0.76474595  0.78374142]] \n",
            "\n",
            "Predicted output:\n",
            "\n",
            "[[-0.26231048]]\n",
            "Expected output:\n",
            "\n",
            "[0.28571429]\n",
            "Epoc number: 32 \n",
            "\n",
            "weight_2_update\n",
            "\n",
            "[[-0.59276671]\n",
            " [ 0.33268771]] \n",
            "\n",
            "Weight_1_update\n",
            "\n",
            "[[-0.69465915  0.7483557 ]\n",
            " [ 0.19665232  0.6003295 ]\n",
            " [ 0.86174711  0.23844125]] \n",
            "\n",
            "Predicted output:\n",
            "\n",
            "[[-0.12928011]]\n",
            "Expected output:\n",
            "\n",
            "[0.28571429]\n",
            "Epoc number: 33 \n",
            "\n",
            "weight_2_update\n",
            "\n",
            "[[0.33268771]\n",
            " [0.80141239]] \n",
            "\n",
            "Weight_1_update\n",
            "\n",
            "[[ 0.15457157 -0.64312336]\n",
            " [-0.41344693 -0.29346205]\n",
            " [ 0.1057304   0.96502517]] \n",
            "\n",
            "Predicted output:\n",
            "\n",
            "[[0.62438771]]\n",
            "Expected output:\n",
            "\n",
            "[0.28571429]\n",
            "Epoc number: 34 \n",
            "\n",
            "weight_2_update\n",
            "\n",
            "[[0.80141239]\n",
            " [0.12302415]] \n",
            "\n",
            "Weight_1_update\n",
            "\n",
            "[[-0.850674    0.16348739]\n",
            " [-0.71586234 -0.30232194]\n",
            " [-0.8165296  -0.21001742]] \n",
            "\n",
            "Predicted output:\n",
            "\n",
            "[[0.15504788]]\n",
            "Expected output:\n",
            "\n",
            "[0.28571429]\n",
            "Epoc number: 35 \n",
            "\n",
            "weight_2_update\n",
            "\n",
            "[[0.12302415]\n",
            " [0.37151269]] \n",
            "\n",
            "Weight_1_update\n",
            "\n",
            "[[ 0.3412421   0.2521102 ]\n",
            " [-0.52706307  0.5663559 ]\n",
            " [-0.47010269 -0.22921646]] \n",
            "\n",
            "Predicted output:\n",
            "\n",
            "[[0.26137128]]\n",
            "Expected output:\n",
            "\n",
            "[0.28571429]\n",
            "Epoc number: 36 \n",
            "\n",
            "weight_2_update\n",
            "\n",
            "[[ 0.37151269]\n",
            " [-0.23084292]] \n",
            "\n",
            "Weight_1_update\n",
            "\n",
            "[[ 0.10901466  0.68903847]\n",
            " [ 0.85889291 -0.41064521]\n",
            " [-0.8795756  -0.50815936]] \n",
            "\n",
            "Predicted output:\n",
            "\n",
            "[[0.08261831]]\n",
            "Expected output:\n",
            "\n",
            "[0.28571429]\n",
            "Epoc number: 37 \n",
            "\n",
            "weight_2_update\n",
            "\n",
            "[[-0.23084292]\n",
            " [-0.60563524]] \n",
            "\n",
            "Weight_1_update\n",
            "\n",
            "[[-0.16080086  0.89437706]\n",
            " [ 0.63212814 -0.68086607]\n",
            " [-0.04102047 -0.35182685]] \n",
            "\n",
            "Predicted output:\n",
            "\n",
            "[[-0.385341]]\n",
            "Expected output:\n",
            "\n",
            "[0.28571429]\n",
            "Epoc number: 38 \n",
            "\n",
            "weight_2_update\n",
            "\n",
            "[[-0.60563524]\n",
            " [-0.32182959]] \n",
            "\n",
            "Weight_1_update\n",
            "\n",
            "[[ 0.00771132  0.2270229 ]\n",
            " [ 0.33683911 -0.75853161]\n",
            " [ 0.02955622  0.64144083]] \n",
            "\n",
            "Predicted output:\n",
            "\n",
            "[[-0.52306946]]\n",
            "Expected output:\n",
            "\n",
            "[0.28571429]\n",
            "Epoc number: 39 \n",
            "\n",
            "weight_2_update\n",
            "\n",
            "[[-0.32182959]\n",
            " [ 0.8254965 ]] \n",
            "\n",
            "Weight_1_update\n",
            "\n",
            "[[ 0.69923788  0.87592258]\n",
            " [ 0.25246137 -0.20318881]\n",
            " [ 0.70420081  0.46150885]] \n",
            "\n",
            "Predicted output:\n",
            "\n",
            "[[0.3195921]]\n",
            "Expected output:\n",
            "\n",
            "[0.28571429]\n",
            "Epoc number: 40 \n",
            "\n",
            "weight_2_update\n",
            "\n",
            "[[0.8254965 ]\n",
            " [0.29834309]] \n",
            "\n",
            "Weight_1_update\n",
            "\n",
            "[[ 0.34891163 -0.15755987]\n",
            " [-0.53909252  0.97089052]\n",
            " [-0.58321529 -0.25170591]] \n",
            "\n",
            "Predicted output:\n",
            "\n",
            "[[0.43580957]]\n",
            "Expected output:\n",
            "\n",
            "[0.28571429]\n",
            "Epoc number: 41 \n",
            "\n",
            "weight_2_update\n",
            "\n",
            "[[0.29834309]\n",
            " [0.69970495]] \n",
            "\n",
            "Weight_1_update\n",
            "\n",
            "[[ 0.10645167 -0.87516082]\n",
            " [ 0.47016899 -0.42945434]\n",
            " [ 0.706428    0.97701542]] \n",
            "\n",
            "Predicted output:\n",
            "\n",
            "[[0.5951885]]\n",
            "Expected output:\n",
            "\n",
            "[0.28571429]\n",
            "Epoc number: 42 \n",
            "\n",
            "weight_2_update\n",
            "\n",
            "[[0.69970495]\n",
            " [0.26023035]] \n",
            "\n",
            "Weight_1_update\n",
            "\n",
            "[[0.21393614 0.41676144]\n",
            " [0.78632168 0.72863297]\n",
            " [0.52492668 0.62999453]] \n",
            "\n",
            "Predicted output:\n",
            "\n",
            "[[0.75906623]]\n",
            "Expected output:\n",
            "\n",
            "[0.28571429]\n",
            "Epoc number: 43 \n",
            "\n",
            "weight_2_update\n",
            "\n",
            "[[0.26023035]\n",
            " [0.62988394]] \n",
            "\n",
            "Weight_1_update\n",
            "\n",
            "[[ 1.00970887 -0.85884973]\n",
            " [ 0.06876209 -0.60079821]\n",
            " [ 0.96199021  0.00383533]] \n",
            "\n",
            "Predicted output:\n",
            "\n",
            "[[0.38772072]]\n",
            "Expected output:\n",
            "\n",
            "[0.28571429]\n",
            "Epoc number: 44 \n",
            "\n",
            "weight_2_update\n",
            "\n",
            "[[ 0.62988394]\n",
            " [-0.55480813]] \n",
            "\n",
            "Weight_1_update\n",
            "\n",
            "[[ 0.64864062  0.9516096 ]\n",
            " [-0.74586202  0.53720178]\n",
            " [ 0.77217073 -0.43675732]] \n",
            "\n",
            "Predicted output:\n",
            "\n",
            "[[0.04795238]]\n",
            "Expected output:\n",
            "\n",
            "[0.28571429]\n",
            "Epoc number: 45 \n",
            "\n",
            "weight_2_update\n",
            "\n",
            "[[-0.55480813]\n",
            " [ 0.57182483]] \n",
            "\n",
            "Weight_1_update\n",
            "\n",
            "[[-0.43660708  0.90516929]\n",
            " [ 0.85672494  0.31909416]\n",
            " [-0.27140009 -0.36198778]] \n",
            "\n",
            "Predicted output:\n",
            "\n",
            "[[0.048877]]\n",
            "Expected output:\n",
            "\n",
            "[0.28571429]\n",
            "Epoc number: 46 \n",
            "\n",
            "weight_2_update\n",
            "\n",
            "[[ 0.57182483]\n",
            " [-0.63341362]] \n",
            "\n",
            "Weight_1_update\n",
            "\n",
            "[[-0.28742212  0.91514309]\n",
            " [ 0.21449779 -0.19637371]\n",
            " [ 0.73026368 -0.22877999]] \n",
            "\n",
            "Predicted output:\n",
            "\n",
            "[[0.04330224]]\n",
            "Expected output:\n",
            "\n",
            "[0.28571429]\n",
            "Epoc number: 47 \n",
            "\n",
            "weight_2_update\n",
            "\n",
            "[[-0.63341362]\n",
            " [-0.42795183]] \n",
            "\n",
            "Weight_1_update\n",
            "\n",
            "[[-0.90446028  0.1725784 ]\n",
            " [-0.7097944   0.06216547]\n",
            " [ 0.36984818  0.49951457]] \n",
            "\n",
            "Predicted output:\n",
            "\n",
            "[[-0.48594149]]\n",
            "Expected output:\n",
            "\n",
            "[0.28571429]\n",
            "Epoc number: 48 \n",
            "\n",
            "weight_2_update\n",
            "\n",
            "[[-0.42795183]\n",
            " [ 0.67664463]] \n",
            "\n",
            "Weight_1_update\n",
            "\n",
            "[[ 0.39179037 -0.83922853]\n",
            " [ 0.24516935 -0.33415452]\n",
            " [ 0.6226006  -0.63015841]] \n",
            "\n",
            "Predicted output:\n",
            "\n",
            "[[-0.183587]]\n",
            "Expected output:\n",
            "\n",
            "[0.28571429]\n",
            "Epoc number: 49 \n",
            "\n",
            "weight_2_update\n",
            "\n",
            "[[ 0.67664463]\n",
            " [-0.01391944]] \n",
            "\n",
            "Weight_1_update\n",
            "\n",
            "[[-0.73308379  0.45933925]\n",
            " [ 0.22470721  0.01289922]\n",
            " [ 0.00924649  0.02427776]] \n",
            "\n",
            "Predicted output:\n",
            "\n",
            "[[0.28808076]]\n",
            "Expected output:\n",
            "\n",
            "[0.28571429]\n",
            "Epoc number: 50 \n",
            "\n",
            "weight_2_update\n",
            "\n",
            "[[-0.01391944]\n",
            " [ 0.45352283]] \n",
            "\n",
            "Weight_1_update\n",
            "\n",
            "[[-0.46236821  0.75229935]\n",
            " [ 0.76051851 -0.6304545 ]\n",
            " [-0.87559597 -0.17832091]] \n",
            "\n",
            "Predicted output:\n",
            "\n",
            "[[0.19554213]]\n",
            "Expected output:\n",
            "\n",
            "[0.28571429]\n",
            "Epoc number: 51 \n",
            "\n",
            "weight_2_update\n",
            "\n",
            "[[ 0.45352283]\n",
            " [-0.17284309]] \n",
            "\n",
            "Weight_1_update\n",
            "\n",
            "[[ 0.83638211  0.6819925 ]\n",
            " [ 0.72087056  0.56385029]\n",
            " [-0.20626185  0.10961926]] \n",
            "\n",
            "Predicted output:\n",
            "\n",
            "[[0.19450352]]\n",
            "Expected output:\n",
            "\n",
            "[0.28571429]\n",
            "Epoc number: 52 \n",
            "\n",
            "weight_2_update\n",
            "\n",
            "[[-0.17284309]\n",
            " [-0.51425503]] \n",
            "\n",
            "Weight_1_update\n",
            "\n",
            "[[-0.57916522 -0.04160104]\n",
            " [-0.63577211  0.77944384]\n",
            " [-0.5953181   0.50993007]] \n",
            "\n",
            "Predicted output:\n",
            "\n",
            "[[-0.41944697]]\n",
            "Expected output:\n",
            "\n",
            "[0.28571429]\n",
            "Epoc number: 53 \n",
            "\n",
            "weight_2_update\n",
            "\n",
            "[[-0.51425503]\n",
            " [-0.51419617]] \n",
            "\n",
            "Weight_1_update\n",
            "\n",
            "[[-0.03474602  0.62745526]\n",
            " [ 0.85624842  0.62795668]\n",
            " [-0.79834671 -0.07803144]] \n",
            "\n",
            "Predicted output:\n",
            "\n",
            "[[-0.59477166]]\n",
            "Expected output:\n",
            "\n",
            "[0.28571429]\n",
            "Epoc number: 54 \n",
            "\n",
            "weight_2_update\n",
            "\n",
            "[[-0.51419617]\n",
            " [-0.0119095 ]] \n",
            "\n",
            "Weight_1_update\n",
            "\n",
            "[[ 0.31391292 -0.81371556]\n",
            " [ 0.54651163  0.96747657]\n",
            " [-0.85747227  0.94594987]] \n",
            "\n",
            "Predicted output:\n",
            "\n",
            "[[-0.23663785]]\n",
            "Expected output:\n",
            "\n",
            "[0.28571429]\n",
            "Epoc number: 55 \n",
            "\n",
            "weight_2_update\n",
            "\n",
            "[[-0.0119095 ]\n",
            " [-0.71947418]] \n",
            "\n",
            "Weight_1_update\n",
            "\n",
            "[[-0.1681001   1.01676068]\n",
            " [-0.21385137  0.2310181 ]\n",
            " [-0.35847036 -0.2696683 ]] \n",
            "\n",
            "Predicted output:\n",
            "\n",
            "[[-0.45622888]]\n",
            "Expected output:\n",
            "\n",
            "[0.28571429]\n",
            "Epoc number: 56 \n",
            "\n",
            "weight_2_update\n",
            "\n",
            "[[-0.71947418]\n",
            " [-0.1311677 ]] \n",
            "\n",
            "Weight_1_update\n",
            "\n",
            "[[ 0.85889287  0.50320968]\n",
            " [-0.37682885  0.52095849]\n",
            " [-0.22514183  0.79029741]] \n",
            "\n",
            "Predicted output:\n",
            "\n",
            "[[-0.46512488]]\n",
            "Expected output:\n",
            "\n",
            "[0.28571429]\n",
            "Epoc number: 57 \n",
            "\n",
            "weight_2_update\n",
            "\n",
            "[[-0.1311677 ]\n",
            " [ 0.92446008]] \n",
            "\n",
            "Weight_1_update\n",
            "\n",
            "[[ 0.45086597  0.96719833]\n",
            " [-0.18353566 -0.65756827]\n",
            " [-0.59205649 -0.53545837]] \n",
            "\n",
            "Predicted output:\n",
            "\n",
            "[[0.30261624]]\n",
            "Expected output:\n",
            "\n",
            "[0.28571429]\n",
            "Epoc number: 58 \n",
            "\n",
            "weight_2_update\n",
            "\n",
            "[[ 0.92446008]\n",
            " [-0.37147353]] \n",
            "\n",
            "Weight_1_update\n",
            "\n",
            "[[-0.79216319  0.59689307]\n",
            " [ 0.46370466  0.38230569]\n",
            " [ 0.99184052  0.53550865]] \n",
            "\n",
            "Predicted output:\n",
            "\n",
            "[[0.36941184]]\n",
            "Expected output:\n",
            "\n",
            "[0.28571429]\n",
            "Epoc number: 59 \n",
            "\n",
            "weight_2_update\n",
            "\n",
            "[[-0.37147353]\n",
            " [ 0.1006382 ]] \n",
            "\n",
            "Weight_1_update\n",
            "\n",
            "[[-0.35804452 -0.59595594]\n",
            " [ 0.09309514  0.95663581]\n",
            " [ 0.70063698 -0.00109769]] \n",
            "\n",
            "Predicted output:\n",
            "\n",
            "[[-0.17603865]]\n",
            "Expected output:\n",
            "\n",
            "[0.28571429]\n",
            "Epoc number: 60 \n",
            "\n",
            "weight_2_update\n",
            "\n",
            "[[ 0.1006382 ]\n",
            " [-0.39433846]] \n",
            "\n",
            "Weight_1_update\n",
            "\n",
            "[[0.59248537 0.78554341]\n",
            " [0.27285394 0.60548164]\n",
            " [0.38929741 0.24645834]] \n",
            "\n",
            "Predicted output:\n",
            "\n",
            "[[-0.23037546]]\n",
            "Expected output:\n",
            "\n",
            "[0.28571429]\n",
            "Epoc number: 61 \n",
            "\n",
            "weight_2_update\n",
            "\n",
            "[[-0.39433846]\n",
            " [-0.88101678]] \n",
            "\n",
            "Weight_1_update\n",
            "\n",
            "[[-0.97835064  0.01435299]\n",
            " [-0.2848443  -0.72547737]\n",
            " [-0.65693944  0.30191296]] \n",
            "\n",
            "Predicted output:\n",
            "\n",
            "[[-0.45503864]]\n",
            "Expected output:\n",
            "\n",
            "[0.28571429]\n",
            "Epoc number: 62 \n",
            "\n",
            "weight_2_update\n",
            "\n",
            "[[-0.88101678]\n",
            " [-0.41180466]] \n",
            "\n",
            "Weight_1_update\n",
            "\n",
            "[[-0.38034851  0.68687275]\n",
            " [ 0.61787232  0.70158863]\n",
            " [ 0.78396543 -0.77774462]] \n",
            "\n",
            "Predicted output:\n",
            "\n",
            "[[-0.878625]]\n",
            "Expected output:\n",
            "\n",
            "[0.28571429]\n",
            "Epoc number: 63 \n",
            "\n",
            "weight_2_update\n",
            "\n",
            "[[-0.41180466]\n",
            " [ 0.91166865]] \n",
            "\n",
            "Weight_1_update\n",
            "\n",
            "[[ 0.48799026 -0.99898488]\n",
            " [ 0.26468105  0.98260909]\n",
            " [ 0.22320026 -0.49102606]] \n",
            "\n",
            "Predicted output:\n",
            "\n",
            "[[0.10931921]]\n",
            "Expected output:\n",
            "\n",
            "[0.28571429]\n",
            "Epoc number: 64 \n",
            "\n",
            "weight_2_update\n",
            "\n",
            "[[0.91166865]\n",
            " [0.29971069]] \n",
            "\n",
            "Weight_1_update\n",
            "\n",
            "[[-0.30055474  0.9125829 ]\n",
            " [ 0.74987104 -0.28137062]\n",
            " [-0.03060033 -0.30119363]] \n",
            "\n",
            "Predicted output:\n",
            "\n",
            "[[0.694833]]\n",
            "Expected output:\n",
            "\n",
            "[0.28571429]\n",
            "Epoc number: 65 \n",
            "\n",
            "weight_2_update\n",
            "\n",
            "[[0.29971069]\n",
            " [0.36548714]] \n",
            "\n",
            "Weight_1_update\n",
            "\n",
            "[[-0.48251386  0.69748267]\n",
            " [ 0.93490194 -0.90844524]\n",
            " [-0.07968893  0.58789881]] \n",
            "\n",
            "Predicted output:\n",
            "\n",
            "[[0.38602676]]\n",
            "Expected output:\n",
            "\n",
            "[0.28571429]\n",
            "Epoc number: 66 \n",
            "\n",
            "weight_2_update\n",
            "\n",
            "[[ 0.36548714]\n",
            " [-0.68625854]] \n",
            "\n",
            "Weight_1_update\n",
            "\n",
            "[[-0.13318447  0.02021278]\n",
            " [-0.9873391  -0.57717209]\n",
            " [ 0.47179174 -0.92181723]] \n",
            "\n",
            "Predicted output:\n",
            "\n",
            "[[0.00795959]]\n",
            "Expected output:\n",
            "\n",
            "[0.28571429]\n",
            "Epoc number: 67 \n",
            "\n",
            "weight_2_update\n",
            "\n",
            "[[-0.68625854]\n",
            " [-0.58107534]] \n",
            "\n",
            "Weight_1_update\n",
            "\n",
            "[[ 0.93846302 -0.86203113]\n",
            " [ 0.93868335 -0.53744177]\n",
            " [ 0.79663024 -0.32745253]] \n",
            "\n",
            "Predicted output:\n",
            "\n",
            "[[-0.73904321]]\n",
            "Expected output:\n",
            "\n",
            "[0.28571429]\n",
            "Epoc number: 68 \n",
            "\n",
            "weight_2_update\n",
            "\n",
            "[[-0.58107534]\n",
            " [ 0.36664061]] \n",
            "\n",
            "Weight_1_update\n",
            "\n",
            "[[ 0.27706402 -0.97189254]\n",
            " [ 0.04216927  0.30288367]\n",
            " [ 0.97157987 -0.77644398]] \n",
            "\n",
            "Predicted output:\n",
            "\n",
            "[[-0.35322453]]\n",
            "Expected output:\n",
            "\n",
            "[0.28571429]\n",
            "Epoc number: 69 \n",
            "\n",
            "weight_2_update\n",
            "\n",
            "[[0.36664061]\n",
            " [0.19031886]] \n",
            "\n",
            "Weight_1_update\n",
            "\n",
            "[[ 0.06153579 -0.37785618]\n",
            " [-0.35662058  0.34169364]\n",
            " [-0.96635838 -0.78701629]] \n",
            "\n",
            "Predicted output:\n",
            "\n",
            "[[0.14536923]]\n",
            "Expected output:\n",
            "\n",
            "[0.28571429]\n",
            "Epoc number: 70 \n",
            "\n",
            "weight_2_update\n",
            "\n",
            "[[0.19031886]\n",
            " [0.62641115]] \n",
            "\n",
            "Weight_1_update\n",
            "\n",
            "[[ 0.69991238 -0.68588949]\n",
            " [ 0.54888349 -0.95132148]\n",
            " [ 0.00784505 -0.27326057]] \n",
            "\n",
            "Predicted output:\n",
            "\n",
            "[[0.25342309]]\n",
            "Expected output:\n",
            "\n",
            "[0.28571429]\n",
            "Epoc number: 71 \n",
            "\n",
            "weight_2_update\n",
            "\n",
            "[[ 0.62641115]\n",
            " [-0.62721363]] \n",
            "\n",
            "Weight_1_update\n",
            "\n",
            "[[-0.46227439  0.62966046]\n",
            " [-0.91015454 -0.00485247]\n",
            " [ 0.01481574 -0.18359702]] \n",
            "\n",
            "Predicted output:\n",
            "\n",
            "[[-0.17374031]]\n",
            "Expected output:\n",
            "\n",
            "[0.28571429]\n",
            "Epoc number: 72 \n",
            "\n",
            "weight_2_update\n",
            "\n",
            "[[-0.62721363]\n",
            " [ 0.09020129]] \n",
            "\n",
            "Weight_1_update\n",
            "\n",
            "[[ 0.09840718  0.05630357]\n",
            " [ 0.23485664 -0.20158859]\n",
            " [ 0.32276862  0.39820686]] \n",
            "\n",
            "Predicted output:\n",
            "\n",
            "[[-0.34942888]]\n",
            "Expected output:\n",
            "\n",
            "[0.28571429]\n",
            "Epoc number: 73 \n",
            "\n",
            "weight_2_update\n",
            "\n",
            "[[ 0.09020129]\n",
            " [-0.17470549]] \n",
            "\n",
            "Weight_1_update\n",
            "\n",
            "[[ 0.46668244  0.83745508]\n",
            " [-0.33222774  0.56192711]\n",
            " [ 0.97843084 -0.77443907]] \n",
            "\n",
            "Predicted output:\n",
            "\n",
            "[[-0.02927629]]\n",
            "Expected output:\n",
            "\n",
            "[0.28571429]\n",
            "Epoc number: 74 \n",
            "\n",
            "weight_2_update\n",
            "\n",
            "[[-0.17470549]\n",
            " [-0.83469333]] \n",
            "\n",
            "Weight_1_update\n",
            "\n",
            "[[-0.46386954 -0.7225151 ]\n",
            " [ 0.65867    -0.04219258]\n",
            " [ 0.93350546  0.68976804]] \n",
            "\n",
            "Predicted output:\n",
            "\n",
            "[[-0.59729402]]\n",
            "Expected output:\n",
            "\n",
            "[0.28571429]\n",
            "Epoc number: 75 \n",
            "\n",
            "weight_2_update\n",
            "\n",
            "[[-0.83469333]\n",
            " [-0.32449822]] \n",
            "\n",
            "Weight_1_update\n",
            "\n",
            "[[-0.51088333 -0.39950115]\n",
            " [-0.92812091 -0.16488606]\n",
            " [ 0.15331245 -0.06126429]] \n",
            "\n",
            "Predicted output:\n",
            "\n",
            "[[-0.36967499]]\n",
            "Expected output:\n",
            "\n",
            "[0.28571429]\n",
            "Epoc number: 76 \n",
            "\n",
            "weight_2_update\n",
            "\n",
            "[[-0.32449822]\n",
            " [-0.40922746]] \n",
            "\n",
            "Weight_1_update\n",
            "\n",
            "[[-0.55168132 -0.53872701]\n",
            " [ 0.96590885 -0.86388404]\n",
            " [ 0.68984793  0.04159773]] \n",
            "\n",
            "Predicted output:\n",
            "\n",
            "[[-0.35762696]]\n",
            "Expected output:\n",
            "\n",
            "[0.28571429]\n",
            "Epoc number: 77 \n",
            "\n",
            "weight_2_update\n",
            "\n",
            "[[-0.40922746]\n",
            " [-0.44904639]] \n",
            "\n",
            "Weight_1_update\n",
            "\n",
            "[[ 0.67659374  0.68029434]\n",
            " [ 0.38466993 -0.51924659]\n",
            " [-0.3658386   0.69488569]] \n",
            "\n",
            "Predicted output:\n",
            "\n",
            "[[-0.53866369]]\n",
            "Expected output:\n",
            "\n",
            "[0.28571429]\n",
            "Epoc number: 78 \n",
            "\n",
            "weight_2_update\n",
            "\n",
            "[[-0.44904639]\n",
            " [-0.38678269]] \n",
            "\n",
            "Weight_1_update\n",
            "\n",
            "[[ 0.88381127  0.24314189]\n",
            " [ 0.2529296   0.20604839]\n",
            " [-0.02641006  0.82100853]] \n",
            "\n",
            "Predicted output:\n",
            "\n",
            "[[-0.59313496]]\n",
            "Expected output:\n",
            "\n",
            "[0.28571429]\n",
            "Epoc number: 79 \n",
            "\n",
            "weight_2_update\n",
            "\n",
            "[[-0.38678269]\n",
            " [-0.27739815]] \n",
            "\n",
            "Weight_1_update\n",
            "\n",
            "[[ 0.38014983  0.60964233]\n",
            " [ 0.60968323 -0.47165252]\n",
            " [ 0.65974135  0.62787577]] \n",
            "\n",
            "Predicted output:\n",
            "\n",
            "[[-0.48889916]]\n",
            "Expected output:\n",
            "\n",
            "[0.28571429]\n",
            "Epoc number: 80 \n",
            "\n",
            "weight_2_update\n",
            "\n",
            "[[-0.27739815]\n",
            " [ 0.16298605]] \n",
            "\n",
            "Weight_1_update\n",
            "\n",
            "[[-0.73091071  0.66530896]\n",
            " [ 0.12720446 -0.43412487]\n",
            " [ 0.75100778 -0.97661505]] \n",
            "\n",
            "Predicted output:\n",
            "\n",
            "[[-0.12073431]]\n",
            "Expected output:\n",
            "\n",
            "[0.28571429]\n",
            "Epoc number: 81 \n",
            "\n",
            "weight_2_update\n",
            "\n",
            "[[0.16298605]\n",
            " [0.36178983]] \n",
            "\n",
            "Weight_1_update\n",
            "\n",
            "[[-0.28139355 -0.00387349]\n",
            " [-0.90315881 -0.35804494]\n",
            " [ 0.1533262   0.57343746]] \n",
            "\n",
            "Predicted output:\n",
            "\n",
            "[[0.25918593]]\n",
            "Expected output:\n",
            "\n",
            "[0.28571429]\n",
            "Epoc number: 82 \n",
            "\n",
            "weight_2_update\n",
            "\n",
            "[[0.36178983]\n",
            " [0.54615322]] \n",
            "\n",
            "Weight_1_update\n",
            "\n",
            "[[ 0.95808076  0.7057069 ]\n",
            " [-0.3379506  -0.5073546 ]\n",
            " [ 0.69538362  0.41812908]] \n",
            "\n",
            "Predicted output:\n",
            "\n",
            "[[0.59611924]]\n",
            "Expected output:\n",
            "\n",
            "[0.28571429]\n",
            "Epoc number: 83 \n",
            "\n",
            "weight_2_update\n",
            "\n",
            "[[0.54615322]\n",
            " [0.12198768]] \n",
            "\n",
            "Weight_1_update\n",
            "\n",
            "[[-0.4571394   0.45492393]\n",
            " [-0.57869121  0.76823749]\n",
            " [ 0.96808994  0.09207637]] \n",
            "\n",
            "Predicted output:\n",
            "\n",
            "[[0.39314675]]\n",
            "Expected output:\n",
            "\n",
            "[0.28571429]\n",
            "Epoc number: 84 \n",
            "\n",
            "weight_2_update\n",
            "\n",
            "[[0.12198768]\n",
            " [0.27122802]] \n",
            "\n",
            "Weight_1_update\n",
            "\n",
            "[[-0.34414006  0.52293249]\n",
            " [-0.24853851  0.23614072]\n",
            " [ 0.59800131  0.07195008]] \n",
            "\n",
            "Predicted output:\n",
            "\n",
            "[[0.24039163]]\n",
            "Expected output:\n",
            "\n",
            "[0.28571429]\n",
            "Epoc number: 85 \n",
            "\n",
            "weight_2_update\n",
            "\n",
            "[[ 0.27122802]\n",
            " [-0.05388214]] \n",
            "\n",
            "Weight_1_update\n",
            "\n",
            "[[-0.55591762  0.05955914]\n",
            " [-0.29741407  0.52950389]\n",
            " [-0.72295208  1.04280037]] \n",
            "\n",
            "Predicted output:\n",
            "\n",
            "[[0.01427219]]\n",
            "Expected output:\n",
            "\n",
            "[0.28571429]\n",
            "Epoc number: 86 \n",
            "\n",
            "weight_2_update\n",
            "\n",
            "[[-0.05388214]\n",
            " [-0.3148522 ]] \n",
            "\n",
            "Weight_1_update\n",
            "\n",
            "[[-0.430244   -0.29678565]\n",
            " [-0.04549227 -0.97432358]\n",
            " [ 0.83102922 -0.05364484]] \n",
            "\n",
            "Predicted output:\n",
            "\n",
            "[[-0.11798619]]\n",
            "Expected output:\n",
            "\n",
            "[0.28571429]\n",
            "Epoc number: 87 \n",
            "\n",
            "weight_2_update\n",
            "\n",
            "[[-0.3148522 ]\n",
            " [ 0.43715023]] \n",
            "\n",
            "Weight_1_update\n",
            "\n",
            "[[ 0.24121803  0.01558986]\n",
            " [-0.58812302  0.60131202]\n",
            " [ 0.26944861  0.41532879]] \n",
            "\n",
            "Predicted output:\n",
            "\n",
            "[[0.15831184]]\n",
            "Expected output:\n",
            "\n",
            "[0.28571429]\n",
            "Epoc number: 88 \n",
            "\n",
            "weight_2_update\n",
            "\n",
            "[[0.43715023]\n",
            " [0.93110553]] \n",
            "\n",
            "Weight_1_update\n",
            "\n",
            "[[-0.92387465  0.72064964]\n",
            " [ 0.55564524 -0.12885079]\n",
            " [ 0.76140242 -0.6799911 ]] \n",
            "\n",
            "Predicted output:\n",
            "\n",
            "[[0.67211793]]\n",
            "Expected output:\n",
            "\n",
            "[0.28571429]\n",
            "Epoc number: 89 \n",
            "\n",
            "weight_2_update\n",
            "\n",
            "[[0.93110553]\n",
            " [0.61506175]] \n",
            "\n",
            "Weight_1_update\n",
            "\n",
            "[[ 0.03649733 -0.95836272]\n",
            " [-0.92179586 -0.70214163]\n",
            " [ 0.35035253 -0.35895861]] \n",
            "\n",
            "Predicted output:\n",
            "\n",
            "[[0.49407734]]\n",
            "Expected output:\n",
            "\n",
            "[0.28571429]\n",
            "Epoc number: 90 \n",
            "\n",
            "weight_2_update\n",
            "\n",
            "[[0.61506175]\n",
            " [0.65284319]] \n",
            "\n",
            "Weight_1_update\n",
            "\n",
            "[[-0.69390509 -0.34239552]\n",
            " [-0.43912666  0.23700198]\n",
            " [-0.02335409 -0.33967688]] \n",
            "\n",
            "Predicted output:\n",
            "\n",
            "[[0.46087277]]\n",
            "Expected output:\n",
            "\n",
            "[0.28571429]\n",
            "Epoc number: 91 \n",
            "\n",
            "weight_2_update\n",
            "\n",
            "[[0.65284319]\n",
            " [0.97927477]] \n",
            "\n",
            "Weight_1_update\n",
            "\n",
            "[[-0.40529297 -0.64169568]\n",
            " [-0.34996095  0.04775024]\n",
            " [-0.19273158 -0.6588263 ]] \n",
            "\n",
            "Predicted output:\n",
            "\n",
            "[[0.47661193]]\n",
            "Expected output:\n",
            "\n",
            "[0.28571429]\n",
            "Epoc number: 92 \n",
            "\n",
            "weight_2_update\n",
            "\n",
            "[[0.97927477]\n",
            " [0.68364687]] \n",
            "\n",
            "Weight_1_update\n",
            "\n",
            "[[ 0.27425743  0.9323671 ]\n",
            " [ 0.60099131 -0.12554767]\n",
            " [ 0.81099056  0.17895946]] \n",
            "\n",
            "Predicted output:\n",
            "\n",
            "[[1.24146631]]\n",
            "Expected output:\n",
            "\n",
            "[0.28571429]\n",
            "Epoc number: 93 \n",
            "\n",
            "weight_2_update\n",
            "\n",
            "[[0.68364687]\n",
            " [0.85628213]] \n",
            "\n",
            "Weight_1_update\n",
            "\n",
            "[[-0.75697498 -0.6396227 ]\n",
            " [-0.91558052  0.59818902]\n",
            " [ 0.87121843 -0.19509258]] \n",
            "\n",
            "Predicted output:\n",
            "\n",
            "[[0.69503975]]\n",
            "Expected output:\n",
            "\n",
            "[0.28571429]\n",
            "Epoc number: 94 \n",
            "\n",
            "weight_2_update\n",
            "\n",
            "[[0.85628213]\n",
            " [0.92163358]] \n",
            "\n",
            "Weight_1_update\n",
            "\n",
            "[[-0.29965159  0.23785743]\n",
            " [-0.23796175 -0.05044687]\n",
            " [-0.57195732 -0.16226252]] \n",
            "\n",
            "Predicted output:\n",
            "\n",
            "[[0.687182]]\n",
            "Expected output:\n",
            "\n",
            "[0.28571429]\n",
            "Epoc number: 95 \n",
            "\n",
            "weight_2_update\n",
            "\n",
            "[[0.92163358]\n",
            " [0.49658486]] \n",
            "\n",
            "Weight_1_update\n",
            "\n",
            "[[ 0.01579446  0.97580354]\n",
            " [-0.15229623 -0.90240054]\n",
            " [-0.76436007  0.29331945]] \n",
            "\n",
            "Predicted output:\n",
            "\n",
            "[[0.53855805]]\n",
            "Expected output:\n",
            "\n",
            "[0.28571429]\n",
            "Epoc number: 96 \n",
            "\n",
            "weight_2_update\n",
            "\n",
            "[[ 0.49658486]\n",
            " [-0.85820375]] \n",
            "\n",
            "Weight_1_update\n",
            "\n",
            "[[ 0.4374873   0.247356  ]\n",
            " [-0.68564587  0.41274145]\n",
            " [ 0.52709812  0.12373341]] \n",
            "\n",
            "Predicted output:\n",
            "\n",
            "[[-0.27648726]]\n",
            "Expected output:\n",
            "\n",
            "[0.28571429]\n",
            "Epoc number: 97 \n",
            "\n",
            "weight_2_update\n",
            "\n",
            "[[-0.85820375]\n",
            " [-0.21385268]] \n",
            "\n",
            "Weight_1_update\n",
            "\n",
            "[[-0.20228448  0.48830379]\n",
            " [-0.72625451 -0.72009114]\n",
            " [ 0.34273612  0.91246648]] \n",
            "\n",
            "Predicted output:\n",
            "\n",
            "[[-0.49226856]]\n",
            "Expected output:\n",
            "\n",
            "[0.28571429]\n",
            "Epoc number: 98 \n",
            "\n",
            "weight_2_update\n",
            "\n",
            "[[-0.21385268]\n",
            " [-0.30825886]] \n",
            "\n",
            "Weight_1_update\n",
            "\n",
            "[[ 0.19467137 -0.0864327 ]\n",
            " [ 0.41374589 -0.21907803]\n",
            " [ 0.52732577 -0.8138168 ]] \n",
            "\n",
            "Predicted output:\n",
            "\n",
            "[[-0.23573293]]\n",
            "Expected output:\n",
            "\n",
            "[0.28571429]\n",
            "Epoc number: 99 \n",
            "\n",
            "weight_2_update\n",
            "\n",
            "[[-0.30825886]\n",
            " [ 0.9014893 ]] \n",
            "\n",
            "Weight_1_update\n",
            "\n",
            "[[-0.73585542 -0.75485458]\n",
            " [ 0.95460083  0.70767739]\n",
            " [ 0.63008284  0.65808307]] \n",
            "\n",
            "Predicted output:\n",
            "\n",
            "[[0.39401304]]\n",
            "Expected output:\n",
            "\n",
            "[0.28571429]\n"
          ]
        }
      ],
      "source": [
        "Epoc = 100\n",
        "for x in range(Epoc):\n",
        "  print( 'Epoc number:', x ,'\\n')\n",
        "  weight_1=array([[.2,.1],[.3,.1],[.2,.1]])\n",
        "  weight_2=array([[.5],[.1]])\n",
        "  weight_1=uniform(-1,1,(3,2)) #shape 3 by 2\n",
        "  weight_2=uniform(-1,1,(2,1))\n",
        "  output_1=X_norm[0:batch_size]@weight_1\n",
        "  output_1\n",
        "  act_output=sigmoid(output_1).numpy()\n",
        "  act_output\n",
        "  pred_output=act_output@weight_2\n",
        "  pred_output=np.reshape(pred_output,(1,-1))\n",
        "  pred_output\n",
        "  y_true=y_norm[0][0:batch_size]\n",
        "  y_pred=pred_output\n",
        "  mse(y_true,y_pred).numpy()\n",
        "\n",
        "  #Back Propagation\n",
        "\n",
        "  y1 = y_true[0]\n",
        "  y2 = y_pred\n",
        "  output=y1-y2\n",
        "  output2 = y2*(1-y2)\n",
        "  error_k = output * output2\n",
        "\n",
        "  #Error of hidden Layers 𝑬𝒓𝒓𝒐𝒓(𝒋) = 𝒆𝒓𝒓𝒐𝒓 𝒂𝒕 𝒌 ∗ 𝒘𝒆𝒊𝒈𝒉𝒕 𝒐𝒇 𝒘𝒋𝒌 ∗ 𝒇’(𝒙𝒋)\n",
        "  error_j = error_k * weight_2[0][0] * (act_output[0][0] * (1 - act_output[0][0]))\n",
        "  error_i = error_k * weight_2[1][0] * (act_output[0][1] * (1 - act_output[0][1]))\n",
        "\n",
        "  #Delta rule: 𝑊𝑛𝑒𝑤 = 𝑊𝑐𝑢𝑟𝑟𝑒𝑛𝑡 + Δ𝑊𝑐𝑢𝑟𝑟𝑒𝑛t\n",
        "  n = uniform(0,1)\n",
        "  w_new_j = weight_2[0][0] + (n * error_k * y_pred)\n",
        "  w_new_j = np.reshape(array(w_new_i),(1,1))\n",
        "  w_new_i = weight_2[1][0] + (n * error_k * y_pred)\n",
        "  w_new_i = np.reshape(array(w_new_i),(1,1))\n",
        "  weight_2_update = np.concatenate((w_new_j, w_new_i))\n",
        "  print('weight_2_update\\n')\n",
        "  print(weight_2_update, '\\n')\n",
        "\n",
        "  #Calculating weights for the first layer\n",
        "  weight_1_update = weight_1[:,0].reshape(-1,1) + (n * error_j * output_1[0][0])\n",
        "  weight_1_update_cont = weight_1[:,1].reshape(-1,1) + (n * error_i * output_1[0][1])\n",
        "  weight_1_update = np.concatenate((weight_1_update, weight_1_update_cont), axis=1)\n",
        "  print('Weight_1_update\\n')\n",
        "  print(weight_1_update, '\\n')\n",
        "\n",
        "  #Uisng the updated weights\n",
        "  output_1=X_norm[0:batch_size]@weight_1_update\n",
        "  output_1\n",
        "  act_output=sigmoid(output_1).numpy()\n",
        "  act_output\n",
        "  pred_output=act_output@weight_2_update\n",
        "  pred_output=np.reshape(pred_output,(1,-1))\n",
        "  print('Predicted output:\\n')\n",
        "  print(pred_output)\n",
        "  y_true=y_norm[0][0:batch_size]\n",
        "  print('Expected output:\\n')\n",
        "  print(y_true)\n",
        "  y_pred=pred_output\n",
        "  mse(y_true,y_pred).numpy()\n",
        "\n",
        "\n",
        "\n",
        "\n",
        "\n"
      ]
    },
    {
      "cell_type": "markdown",
      "metadata": {
        "id": "xz9wY-Cfl_Ut"
      },
      "source": [
        "Trials of the first epoc. "
      ]
    },
    {
      "cell_type": "code",
      "execution_count": null,
      "metadata": {
        "colab": {
          "base_uri": "https://localhost:8080/",
          "height": 36
        },
        "id": "6ZhtPDirsE04",
        "outputId": "4d74de7f-57ee-417d-f2ca-053e70f3a96f"
      },
      "outputs": [
        {
          "data": {
            "application/vnd.google.colaboratory.intrinsic+json": {
              "type": "string"
            },
            "text/plain": [
              "'weight_1=array([[.2,.1],[.3,.1],[.2,.1]])\\nweight_2=array([[.5],[.1]])'"
            ]
          },
          "execution_count": 488,
          "metadata": {},
          "output_type": "execute_result"
        }
      ],
      "source": [
        "\"\"\"weight_1=array([[.2,.1],[.3,.1],[.2,.1]])\n",
        "weight_2=array([[.5],[.1]])\"\"\""
      ]
    },
    {
      "cell_type": "code",
      "execution_count": null,
      "metadata": {
        "id": "-ZGzAb6eyJv8"
      },
      "outputs": [],
      "source": [
        "weight_1=uniform(-1,1,(3,2)) #shape 3 by 2\n",
        "weight_2=uniform(-1,1,(2,1))"
      ]
    },
    {
      "cell_type": "code",
      "execution_count": null,
      "metadata": {
        "colab": {
          "base_uri": "https://localhost:8080/"
        },
        "id": "ZFZBCdKFzrIf",
        "outputId": "ded0f67c-b4f0-439a-e322-46b85ec377ce"
      },
      "outputs": [
        {
          "data": {
            "text/plain": [
              "array([-0.78241051,  0.97850948,  0.61171609])"
            ]
          },
          "execution_count": 490,
          "metadata": {},
          "output_type": "execute_result"
        }
      ],
      "source": [
        "weight_1[:,0]"
      ]
    },
    {
      "cell_type": "code",
      "execution_count": null,
      "metadata": {
        "colab": {
          "base_uri": "https://localhost:8080/"
        },
        "id": "lRE6WjcAw6f0",
        "outputId": "35500f9c-b124-4db4-9b74-37c1f5a2c5ed"
      },
      "outputs": [
        {
          "data": {
            "text/plain": [
              "-0.05700184421194976"
            ]
          },
          "execution_count": 491,
          "metadata": {},
          "output_type": "execute_result"
        }
      ],
      "source": [
        "weight_2[0][0]\n"
      ]
    },
    {
      "cell_type": "code",
      "execution_count": null,
      "metadata": {
        "colab": {
          "base_uri": "https://localhost:8080/"
        },
        "id": "uvAk9U3b0Lfo",
        "outputId": "59dc2545-8af5-4ede-cc5a-0685dc861b6a"
      },
      "outputs": [
        {
          "data": {
            "text/plain": [
              "array([[0.6, 0.8, 1. ]])"
            ]
          },
          "execution_count": 492,
          "metadata": {},
          "output_type": "execute_result"
        }
      ],
      "source": [
        "X_norm[0:batch_size]"
      ]
    },
    {
      "cell_type": "code",
      "execution_count": null,
      "metadata": {
        "colab": {
          "base_uri": "https://localhost:8080/"
        },
        "id": "p8hw1c_DvKZN",
        "outputId": "0c7122cb-a0ab-403b-cc21-2462f46feda1"
      },
      "outputs": [
        {
          "data": {
            "text/plain": [
              "array([[0.92507737, 0.00661548]])"
            ]
          },
          "execution_count": 493,
          "metadata": {},
          "output_type": "execute_result"
        }
      ],
      "source": [
        "output_1=X_norm[0:batch_size]@weight_1\n",
        "output_1"
      ]
    },
    {
      "cell_type": "code",
      "execution_count": null,
      "metadata": {
        "colab": {
          "base_uri": "https://localhost:8080/"
        },
        "id": "wsWkJ_NawIAc",
        "outputId": "8719f7ed-545e-4b8b-c69b-bf83474cb34a"
      },
      "outputs": [
        {
          "data": {
            "text/plain": [
              "array([[0.17213741, 0.53081362]])"
            ]
          },
          "execution_count": 553,
          "metadata": {},
          "output_type": "execute_result"
        }
      ],
      "source": [
        "act_output=sigmoid(output_1).numpy()\n",
        "act_output"
      ]
    },
    {
      "cell_type": "code",
      "execution_count": null,
      "metadata": {
        "colab": {
          "base_uri": "https://localhost:8080/"
        },
        "id": "0jR_FUWwwc2F",
        "outputId": "63a1094d-849f-4c06-b4d0-99058fc8fcd2"
      },
      "outputs": [
        {
          "data": {
            "text/plain": [
              "array([[-0.22372245]])"
            ]
          },
          "execution_count": 495,
          "metadata": {},
          "output_type": "execute_result"
        }
      ],
      "source": [
        "pred_output=act_output@weight_2\n",
        "pred_output=np.reshape(pred_output,(1,-1))\n",
        "pred_output"
      ]
    },
    {
      "cell_type": "markdown",
      "metadata": {
        "id": "EPUW_VKXw-KG"
      },
      "source": [
        "Mean Squared Error"
      ]
    },
    {
      "cell_type": "code",
      "execution_count": null,
      "metadata": {
        "id": "y12G94bmxggB"
      },
      "outputs": [],
      "source": [
        "y_true=y_norm[0][0:batch_size]\n",
        "y_pred=pred_output"
      ]
    },
    {
      "cell_type": "code",
      "execution_count": null,
      "metadata": {
        "colab": {
          "base_uri": "https://localhost:8080/"
        },
        "id": "ZldBUmjMqqQ6",
        "outputId": "491ad8d1-ef7e-405d-bb06-567548dc1612"
      },
      "outputs": [
        {
          "data": {
            "text/plain": [
              "array([[-0.22372245]])"
            ]
          },
          "execution_count": 498,
          "metadata": {},
          "output_type": "execute_result"
        }
      ],
      "source": [
        "y_pred"
      ]
    },
    {
      "cell_type": "code",
      "execution_count": null,
      "metadata": {
        "colab": {
          "base_uri": "https://localhost:8080/"
        },
        "id": "AD8y0mAoxtME",
        "outputId": "f9b47a79-af90-480e-e2d5-7eb9e4fe0dcb"
      },
      "outputs": [
        {
          "data": {
            "text/plain": [
              "array([0.28571429])"
            ]
          },
          "execution_count": 499,
          "metadata": {},
          "output_type": "execute_result"
        }
      ],
      "source": [
        "y_true"
      ]
    },
    {
      "cell_type": "code",
      "execution_count": null,
      "metadata": {
        "colab": {
          "base_uri": "https://localhost:8080/"
        },
        "id": "GV5-3DdrxEer",
        "outputId": "f4416708-0682-4272-d1b3-98342b65eba7"
      },
      "outputs": [
        {
          "data": {
            "text/plain": [
              "array([0.25952579])"
            ]
          },
          "execution_count": 500,
          "metadata": {},
          "output_type": "execute_result"
        }
      ],
      "source": [
        "mse(y_true,y_pred).numpy()"
      ]
    },
    {
      "cell_type": "markdown",
      "metadata": {
        "id": "LSw-uaq8pAGo"
      },
      "source": [
        "Back Propagation"
      ]
    },
    {
      "cell_type": "code",
      "execution_count": null,
      "metadata": {
        "colab": {
          "base_uri": "https://localhost:8080/"
        },
        "id": "wTgWuvRDpAGo",
        "outputId": "0f1aa69e-e790-42e4-f875-a4189c08d31a"
      },
      "outputs": [
        {
          "data": {
            "text/plain": [
              "0.2857142857142857"
            ]
          },
          "execution_count": 501,
          "metadata": {},
          "output_type": "execute_result"
        }
      ],
      "source": [
        "y1 = y_true[0]\n",
        "y1"
      ]
    },
    {
      "cell_type": "code",
      "execution_count": null,
      "metadata": {
        "colab": {
          "base_uri": "https://localhost:8080/"
        },
        "id": "fexNJoxTpAGp",
        "outputId": "ffa882b0-0f9e-4441-d4a7-1d0f70ad9701"
      },
      "outputs": [
        {
          "data": {
            "text/plain": [
              "array([[-0.22372245]])"
            ]
          },
          "execution_count": 502,
          "metadata": {},
          "output_type": "execute_result"
        }
      ],
      "source": [
        "y2 = y_pred\n",
        "y2"
      ]
    },
    {
      "cell_type": "code",
      "execution_count": null,
      "metadata": {
        "colab": {
          "base_uri": "https://localhost:8080/"
        },
        "id": "uFyUVvmvr2aa",
        "outputId": "d9717d4d-7110-41c9-e866-c1f3d6b87e55"
      },
      "outputs": [
        {
          "data": {
            "text/plain": [
              "array([[0.50943673]])"
            ]
          },
          "execution_count": 503,
          "metadata": {},
          "output_type": "execute_result"
        }
      ],
      "source": [
        "output=y1-y2\n",
        "output"
      ]
    },
    {
      "cell_type": "markdown",
      "metadata": {
        "id": "xmGF0mWppelh"
      },
      "source": [
        "Error Computation"
      ]
    },
    {
      "cell_type": "code",
      "execution_count": null,
      "metadata": {
        "colab": {
          "base_uri": "https://localhost:8080/"
        },
        "id": "ccOIvWbQsDn2",
        "outputId": "894a9ffc-996f-4ec1-a533-8de8d31eeeea"
      },
      "outputs": [
        {
          "data": {
            "text/plain": [
              "array([[-0.27377418]])"
            ]
          },
          "execution_count": 504,
          "metadata": {},
          "output_type": "execute_result"
        }
      ],
      "source": [
        "output2 = y2*(1-y2)\n",
        "output2"
      ]
    },
    {
      "cell_type": "code",
      "execution_count": null,
      "metadata": {
        "colab": {
          "base_uri": "https://localhost:8080/"
        },
        "id": "6kp2ILIVplg7",
        "outputId": "5d3cd5f5-ce4a-401a-cf46-216b5486c9d3"
      },
      "outputs": [
        {
          "data": {
            "text/plain": [
              "array([[-0.13947062]])"
            ]
          },
          "execution_count": 505,
          "metadata": {},
          "output_type": "execute_result"
        }
      ],
      "source": [
        "error_k = output * output2\n",
        "error_k"
      ]
    },
    {
      "cell_type": "markdown",
      "metadata": {
        "id": "krN4xD2OwCCI"
      },
      "source": [
        "Error of hidden Layers\n",
        "𝑬𝒓𝒓𝒐𝒓(𝒋) = 𝒆𝒓𝒓𝒐𝒓 𝒂𝒕 𝒌 ∗ 𝒘𝒆𝒊𝒈𝒉𝒕 𝒐𝒇 𝒘𝒋𝒌 ∗ 𝒇’(𝒙𝒋)"
      ]
    },
    {
      "cell_type": "code",
      "execution_count": null,
      "metadata": {
        "colab": {
          "base_uri": "https://localhost:8080/"
        },
        "id": "LjQHjN3du5VS",
        "outputId": "60d43e0d-c87e-4461-adcf-45dcdb13083f"
      },
      "outputs": [
        {
          "data": {
            "text/plain": [
              "array([[-0.00018749]])"
            ]
          },
          "execution_count": 554,
          "metadata": {},
          "output_type": "execute_result"
        }
      ],
      "source": [
        "error_j = error_k * weight_2[0][0] * (act_output[0][0] * (1 - act_output[0][0]))\n",
        "error_j"
      ]
    },
    {
      "cell_type": "code",
      "execution_count": null,
      "metadata": {
        "colab": {
          "base_uri": "https://localhost:8080/"
        },
        "id": "-QXATOgI0IWD",
        "outputId": "44435de1-354b-4cc1-b011-1b3cd24b118a"
      },
      "outputs": [
        {
          "data": {
            "text/plain": [
              "array([[0.00012172]])"
            ]
          },
          "execution_count": 555,
          "metadata": {},
          "output_type": "execute_result"
        }
      ],
      "source": [
        "error_i = error_k * weight_2[1][0] * (act_output[0][1] * (1 - act_output[0][1]))\n",
        "error_i"
      ]
    },
    {
      "cell_type": "markdown",
      "metadata": {
        "id": "Z2Oa0QyV0dFr"
      },
      "source": [
        "Delta rule: 𝑊𝑛𝑒𝑤 = 𝑊𝑐𝑢𝑟𝑟𝑒𝑛𝑡 + Δ𝑊𝑐𝑢𝑟𝑟𝑒𝑛t\n",
        "\n"
      ]
    },
    {
      "cell_type": "code",
      "execution_count": null,
      "metadata": {
        "colab": {
          "base_uri": "https://localhost:8080/"
        },
        "id": "7jtlsd0x1E5i",
        "outputId": "48804652-e212-433a-b9ba-a5f6823fde52"
      },
      "outputs": [
        {
          "data": {
            "text/plain": [
              "0.27463246267170593"
            ]
          },
          "execution_count": 509,
          "metadata": {},
          "output_type": "execute_result"
        }
      ],
      "source": [
        "n = uniform(0,1)\n",
        "n"
      ]
    },
    {
      "cell_type": "code",
      "execution_count": null,
      "metadata": {
        "colab": {
          "base_uri": "https://localhost:8080/"
        },
        "id": "h-QEvyG70t4y",
        "outputId": "a78a08af-633e-4028-8e3f-88ea70492a6d"
      },
      "outputs": [
        {
          "data": {
            "text/plain": [
              "array([[0.16335414]])"
            ]
          },
          "execution_count": 550,
          "metadata": {},
          "output_type": "execute_result"
        }
      ],
      "source": [
        "w_new_j = weight_2[0][0] + (n * error_k * y_pred)\n",
        "w_new_j = np.reshape(array(w_new_i),(1,1))\n",
        "w_new_j"
      ]
    },
    {
      "cell_type": "code",
      "execution_count": null,
      "metadata": {
        "colab": {
          "base_uri": "https://localhost:8080/"
        },
        "id": "N7d4kBgm6M-H",
        "outputId": "1066b874-02d9-431c-d0d7-98de6ce71ccd"
      },
      "outputs": [
        {
          "data": {
            "text/plain": [
              "array([[-0.35603436]])"
            ]
          },
          "execution_count": 511,
          "metadata": {},
          "output_type": "execute_result"
        }
      ],
      "source": [
        "w_new_i = weight_2[1][0] + (n * error_k * y_pred)\n",
        "w_new_i = np.reshape(array(w_new_i),(1,1))\n",
        "w_new_i"
      ]
    },
    {
      "cell_type": "code",
      "execution_count": null,
      "metadata": {
        "colab": {
          "base_uri": "https://localhost:8080/"
        },
        "id": "69JrgxXoOjHs",
        "outputId": "2c995aaf-10d3-437e-f95f-4e6bba3cd080"
      },
      "outputs": [
        {
          "name": "stdout",
          "output_type": "stream",
          "text": [
            "weight_2_update\n",
            "\n"
          ]
        },
        {
          "data": {
            "text/plain": [
              "array([[-0.20454047],\n",
              "       [-0.35603436]])"
            ]
          },
          "execution_count": 538,
          "metadata": {},
          "output_type": "execute_result"
        }
      ],
      "source": [
        "weight_2_update = np.concatenate((w_new_j, w_new_i))\n",
        "print('weight_2_update\\n')\n",
        "weight_2_update"
      ]
    },
    {
      "cell_type": "code",
      "execution_count": null,
      "metadata": {
        "colab": {
          "base_uri": "https://localhost:8080/"
        },
        "id": "QiiTfbRCDNXb",
        "outputId": "dc88ac26-e7ca-4bdc-9b91-4bd80805ec7c"
      },
      "outputs": [
        {
          "data": {
            "text/plain": [
              "array([[-0.78241051,  0.80730479],\n",
              "       [ 0.97850948,  0.27413821],\n",
              "       [ 0.61171609, -0.69707797]])"
            ]
          },
          "execution_count": 513,
          "metadata": {},
          "output_type": "execute_result"
        }
      ],
      "source": [
        "weight_1"
      ]
    },
    {
      "cell_type": "code",
      "execution_count": null,
      "metadata": {
        "colab": {
          "base_uri": "https://localhost:8080/"
        },
        "id": "mxYC37VeEtF9",
        "outputId": "cd1054a5-8fc4-4119-ba61-26dbe9b373d0"
      },
      "outputs": [
        {
          "data": {
            "text/plain": [
              "array([[0.92507737, 0.00661548]])"
            ]
          },
          "execution_count": 514,
          "metadata": {},
          "output_type": "execute_result"
        }
      ],
      "source": [
        "output_1"
      ]
    },
    {
      "cell_type": "code",
      "execution_count": null,
      "metadata": {
        "colab": {
          "base_uri": "https://localhost:8080/"
        },
        "id": "VegAjX4VVuZf",
        "outputId": "8abc76a6-e18a-4773-c138-7a068fb359c5"
      },
      "outputs": [
        {
          "data": {
            "text/plain": [
              "0.0066154768868529334"
            ]
          },
          "execution_count": 517,
          "metadata": {},
          "output_type": "execute_result"
        }
      ],
      "source": [
        "output_1[0][1]"
      ]
    },
    {
      "cell_type": "code",
      "execution_count": null,
      "metadata": {
        "colab": {
          "base_uri": "https://localhost:8080/"
        },
        "id": "VDILmpjRFX6B",
        "outputId": "5238bc1a-2415-4231-bad2-f3671ca4065b"
      },
      "outputs": [
        {
          "data": {
            "text/plain": [
              "array([[-0.78241051,  0.80730479],\n",
              "       [ 0.97850948,  0.27413821],\n",
              "       [ 0.61171609, -0.69707797]])"
            ]
          },
          "execution_count": 515,
          "metadata": {},
          "output_type": "execute_result"
        }
      ],
      "source": [
        " weight_1"
      ]
    },
    {
      "cell_type": "code",
      "execution_count": null,
      "metadata": {
        "colab": {
          "base_uri": "https://localhost:8080/"
        },
        "id": "fG2h6GkqXhGz",
        "outputId": "44dfe669-fe43-468d-b50c-058043ebe1f7"
      },
      "outputs": [
        {
          "data": {
            "text/plain": [
              "array([-0.78241051,  0.97850948,  0.61171609])"
            ]
          },
          "execution_count": 527,
          "metadata": {},
          "output_type": "execute_result"
        }
      ],
      "source": [
        "weight_1[:,0]"
      ]
    },
    {
      "cell_type": "code",
      "execution_count": null,
      "metadata": {
        "colab": {
          "base_uri": "https://localhost:8080/"
        },
        "id": "8BkNMxZ0WKvr",
        "outputId": "d5c25e53-1c3b-4067-ddaa-2cea52a1d733"
      },
      "outputs": [
        {
          "data": {
            "text/plain": [
              "array([[-0.78241051],\n",
              "       [ 0.97850948],\n",
              "       [ 0.61171609]])"
            ]
          },
          "execution_count": 530,
          "metadata": {},
          "output_type": "execute_result"
        }
      ],
      "source": [
        "weight_1[:,0].reshape(-1,1)"
      ]
    },
    {
      "cell_type": "markdown",
      "metadata": {
        "id": "yHSY1_FeCmnD"
      },
      "source": [
        "Calculating weights for the first layer"
      ]
    },
    {
      "cell_type": "code",
      "execution_count": null,
      "metadata": {
        "colab": {
          "base_uri": "https://localhost:8080/"
        },
        "id": "8TzpE-jyQpF7",
        "outputId": "f50e87cb-b506-4b3c-c3b0-f4a0b387917d"
      },
      "outputs": [
        {
          "name": "stdout",
          "output_type": "stream",
          "text": [
            "Weight_1_update\n",
            "\n"
          ]
        },
        {
          "data": {
            "text/plain": [
              "array([[-0.78296347,  0.8072795 ],\n",
              "       [ 0.97795652,  0.27411292],\n",
              "       [ 0.61116313, -0.69710326]])"
            ]
          },
          "execution_count": 537,
          "metadata": {},
          "output_type": "execute_result"
        }
      ],
      "source": [
        "weight_1_update = weight_1[:,0].reshape(-1,1) + (n * error_j * output_1[0][0])\n",
        "weight_1_update_cont = weight_1[:,1].reshape(-1,1) + (n * error_i * output_1[0][1])\n",
        "weight_1_update = np.concatenate((weight_1_update, weight_1_update_cont), axis=1)\n",
        "print('Weight_1_update\\n')\n",
        "weight_1_update"
      ]
    }
  ],
  "metadata": {
    "colab": {
      "collapsed_sections": [],
      "name": "ANN_Scratch_ICS_Class.ipynb",
      "provenance": []
    },
    "kernelspec": {
      "display_name": "Python 3",
      "name": "python3"
    },
    "language_info": {
      "name": "python",
      "version": "3.10.1"
    }
  },
  "nbformat": 4,
  "nbformat_minor": 0
}
